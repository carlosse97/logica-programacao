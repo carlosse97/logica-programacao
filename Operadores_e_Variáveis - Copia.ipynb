{
  "nbformat": 4,
  "nbformat_minor": 0,
  "metadata": {
    "colab": {
      "provenance": []
    },
    "kernelspec": {
      "name": "python3",
      "display_name": "Python 3"
    },
    "language_info": {
      "name": "python"
    }
  },
  "cells": [
    {
      "cell_type": "markdown",
      "source": [
        "## **Operadores Aritméticos**"
      ],
      "metadata": {
        "id": "chlf6qPGnAVH"
      }
    },
    {
      "cell_type": "code",
      "source": [
        "  # Adição\n",
        "  10 + 2"
      ],
      "metadata": {
        "colab": {
          "base_uri": "https://localhost:8080/"
        },
        "id": "BSou5itSnEuH",
        "outputId": "cc948abb-4372-4a95-a5a0-172e17eca098"
      },
      "execution_count": null,
      "outputs": [
        {
          "output_type": "execute_result",
          "data": {
            "text/plain": [
              "12"
            ]
          },
          "metadata": {},
          "execution_count": 1
        }
      ]
    },
    {
      "cell_type": "code",
      "source": [
        "  # Subtração\n",
        " 10 - 2"
      ],
      "metadata": {
        "colab": {
          "base_uri": "https://localhost:8080/"
        },
        "id": "4xuBlZmnnHMR",
        "outputId": "9d10309e-66b8-4a2e-debc-b2581f5a19e4"
      },
      "execution_count": null,
      "outputs": [
        {
          "output_type": "execute_result",
          "data": {
            "text/plain": [
              "8"
            ]
          },
          "metadata": {},
          "execution_count": 2
        }
      ]
    },
    {
      "cell_type": "code",
      "source": [
        "  # Multiplicação\n",
        "  10 * 2"
      ],
      "metadata": {
        "colab": {
          "base_uri": "https://localhost:8080/"
        },
        "id": "wPR2GHQ4nQk3",
        "outputId": "72e0c2a8-3b5c-45cb-c0d6-1f3a708de5d7"
      },
      "execution_count": null,
      "outputs": [
        {
          "output_type": "execute_result",
          "data": {
            "text/plain": [
              "20"
            ]
          },
          "metadata": {},
          "execution_count": 3
        }
      ]
    },
    {
      "cell_type": "code",
      "source": [
        "  # Divisão - os números virão 'quebrado' ou seja, com vírgula\n",
        "  10 / 2"
      ],
      "metadata": {
        "colab": {
          "base_uri": "https://localhost:8080/"
        },
        "id": "N_NtIR1pnWPE",
        "outputId": "15e358ed-9178-464b-9476-eacbd1fe35f7"
      },
      "execution_count": null,
      "outputs": [
        {
          "output_type": "execute_result",
          "data": {
            "text/plain": [
              "5.0"
            ]
          },
          "metadata": {},
          "execution_count": 4
        }
      ]
    },
    {
      "cell_type": "code",
      "source": [
        "  # Divisão Inteira - números sem vírgula\n",
        "  10 // 2"
      ],
      "metadata": {
        "colab": {
          "base_uri": "https://localhost:8080/"
        },
        "id": "-CD2e8hEnY10",
        "outputId": "8e288ce0-8df5-4a31-a913-23c9f84a3a04"
      },
      "execution_count": null,
      "outputs": [
        {
          "output_type": "execute_result",
          "data": {
            "text/plain": [
              "5"
            ]
          },
          "metadata": {},
          "execution_count": 5
        }
      ]
    },
    {
      "cell_type": "code",
      "source": [
        "  # Resto da Divisão - o que sobra depois de realizar a divisão\n",
        "  11 % 2"
      ],
      "metadata": {
        "colab": {
          "base_uri": "https://localhost:8080/"
        },
        "id": "Vz940gFZnrRV",
        "outputId": "f33c75a5-cf1b-41ea-dcd8-13bedf86fd3b"
      },
      "execution_count": null,
      "outputs": [
        {
          "output_type": "execute_result",
          "data": {
            "text/plain": [
              "1"
            ]
          },
          "metadata": {},
          "execution_count": 7
        }
      ]
    },
    {
      "cell_type": "code",
      "source": [
        "  # Potencialização\n",
        "  10 ** 2"
      ],
      "metadata": {
        "colab": {
          "base_uri": "https://localhost:8080/"
        },
        "id": "CccwJJvmn8Fg",
        "outputId": "e1846d1c-d3b5-4dfd-8039-d098fe7312b5"
      },
      "execution_count": null,
      "outputs": [
        {
          "output_type": "execute_result",
          "data": {
            "text/plain": [
              "100"
            ]
          },
          "metadata": {},
          "execution_count": 8
        }
      ]
    },
    {
      "cell_type": "markdown",
      "source": [
        "## **Operadores Relacionais**"
      ],
      "metadata": {
        "id": "USjSGRqyoDdV"
      }
    },
    {
      "cell_type": "code",
      "source": [
        "  # Menor\n",
        "  10 < 2"
      ],
      "metadata": {
        "colab": {
          "base_uri": "https://localhost:8080/"
        },
        "id": "0mm15w1joHM5",
        "outputId": "792931be-8d3a-4ad9-98b1-94dd516dd276"
      },
      "execution_count": null,
      "outputs": [
        {
          "output_type": "execute_result",
          "data": {
            "text/plain": [
              "False"
            ]
          },
          "metadata": {},
          "execution_count": 9
        }
      ]
    },
    {
      "cell_type": "code",
      "source": [
        "  # Menor ou Igual\n",
        "  10 <= 2"
      ],
      "metadata": {
        "colab": {
          "base_uri": "https://localhost:8080/"
        },
        "id": "16Y2---ioLxk",
        "outputId": "f8867e5f-fa79-488b-b590-d8eac46f2e7f"
      },
      "execution_count": null,
      "outputs": [
        {
          "output_type": "execute_result",
          "data": {
            "text/plain": [
              "False"
            ]
          },
          "metadata": {},
          "execution_count": 10
        }
      ]
    },
    {
      "cell_type": "code",
      "source": [
        "  # Maior\n",
        "  10 > 2"
      ],
      "metadata": {
        "colab": {
          "base_uri": "https://localhost:8080/"
        },
        "id": "zZ_mqFFBoR6e",
        "outputId": "dba04e13-0198-4bce-fe0b-36adb1abf803"
      },
      "execution_count": null,
      "outputs": [
        {
          "output_type": "execute_result",
          "data": {
            "text/plain": [
              "True"
            ]
          },
          "metadata": {},
          "execution_count": 11
        }
      ]
    },
    {
      "cell_type": "code",
      "source": [
        "  # Maior ou Igual\n",
        "  10 >= 2"
      ],
      "metadata": {
        "colab": {
          "base_uri": "https://localhost:8080/"
        },
        "id": "WUfv29WOoUg3",
        "outputId": "a1614ee3-2ab2-4cbe-b442-c5fe3616ee24"
      },
      "execution_count": null,
      "outputs": [
        {
          "output_type": "execute_result",
          "data": {
            "text/plain": [
              "True"
            ]
          },
          "metadata": {},
          "execution_count": 12
        }
      ]
    },
    {
      "cell_type": "code",
      "source": [
        "  # Igual\n",
        "  7 == 7"
      ],
      "metadata": {
        "colab": {
          "base_uri": "https://localhost:8080/"
        },
        "id": "bIo5NGxboZ4l",
        "outputId": "0fe3202a-1668-45ef-c79d-5a205e5e5aac"
      },
      "execution_count": null,
      "outputs": [
        {
          "output_type": "execute_result",
          "data": {
            "text/plain": [
              "True"
            ]
          },
          "metadata": {},
          "execution_count": 13
        }
      ]
    },
    {
      "cell_type": "code",
      "source": [
        "  # Diferente\n",
        "  7 != 7"
      ],
      "metadata": {
        "colab": {
          "base_uri": "https://localhost:8080/"
        },
        "id": "qgWy1vqModuB",
        "outputId": "65dc9567-1d8f-46c3-df64-e6aac075c206"
      },
      "execution_count": null,
      "outputs": [
        {
          "output_type": "execute_result",
          "data": {
            "text/plain": [
              "False"
            ]
          },
          "metadata": {},
          "execution_count": 14
        }
      ]
    },
    {
      "cell_type": "markdown",
      "source": [
        "## **Operadores Lógicos**\n",
        "\n",
        "\n",
        "\n",
        "*   And\n",
        "*   Or\n",
        "*   Not\n",
        "\n",
        "\n",
        "\n",
        "\n",
        "\n",
        "\n",
        "\n"
      ],
      "metadata": {
        "id": "4izpj4-volAk"
      }
    },
    {
      "cell_type": "markdown",
      "source": [
        "### **Tabela Verdade**\n",
        "\n",
        "And\n",
        "\n",
        "Se uma das resposta for falsa, o programa retorna como FALSO - FALSE"
      ],
      "metadata": {
        "id": "POhO7569pLtJ"
      }
    },
    {
      "cell_type": "code",
      "source": [
        "print(10 > 2 and 4 < 6)    # V and V - V\n",
        "print(10 > 2 and 4 > 6)    # V and F - F\n",
        "print(10 < 2 and 4 < 6)    # F and V - F\n",
        "print(10 < 2 and 4 > 6)    # F and F - F"
      ],
      "metadata": {
        "colab": {
          "base_uri": "https://localhost:8080/"
        },
        "id": "83R1xGR5omw5",
        "outputId": "d7fe93b2-b9fc-4f8c-af8b-07c3fc2c5d3c"
      },
      "execution_count": null,
      "outputs": [
        {
          "output_type": "stream",
          "name": "stdout",
          "text": [
            "True\n",
            "False\n",
            "False\n",
            "False\n"
          ]
        }
      ]
    },
    {
      "cell_type": "markdown",
      "source": [
        "Or\n",
        "\n",
        "Se uma única resposta for verdadeira, o programa retorna como VERDADE - TRUE"
      ],
      "metadata": {
        "id": "qOcG52F7qAEV"
      }
    },
    {
      "cell_type": "code",
      "source": [
        "print(10 > 2 or 4 < 6)    # V or V - V\n",
        "print(10 > 2 or 4 > 6)    # V or F - V\n",
        "print(10 < 2 or 4 < 6)    # F or V - V\n",
        "print(10 < 2 or 4 > 6)    # F or F - F"
      ],
      "metadata": {
        "colab": {
          "base_uri": "https://localhost:8080/"
        },
        "id": "QNm0p4H-p_AC",
        "outputId": "a20e6eef-1703-4e06-9b4e-33114f4f46ba"
      },
      "execution_count": null,
      "outputs": [
        {
          "output_type": "stream",
          "name": "stdout",
          "text": [
            "True\n",
            "True\n",
            "True\n",
            "False\n"
          ]
        }
      ]
    },
    {
      "cell_type": "markdown",
      "source": [
        "Not\n",
        "\n",
        "Inverte a resposta"
      ],
      "metadata": {
        "id": "qNnE0nVOrYe0"
      }
    },
    {
      "cell_type": "code",
      "source": [
        "not 10 > 2          # V - F"
      ],
      "metadata": {
        "colab": {
          "base_uri": "https://localhost:8080/"
        },
        "id": "-9sFHUVkrX6L",
        "outputId": "93828899-816d-4218-efc3-53a3d0f533b6"
      },
      "execution_count": null,
      "outputs": [
        {
          "output_type": "execute_result",
          "data": {
            "text/plain": [
              "False"
            ]
          },
          "metadata": {},
          "execution_count": 17
        }
      ]
    },
    {
      "cell_type": "code",
      "source": [
        "not 10 < 2          # F - V"
      ],
      "metadata": {
        "colab": {
          "base_uri": "https://localhost:8080/"
        },
        "id": "1IrPh43Rr5Y9",
        "outputId": "ee357ff2-3d30-4ee2-b619-a2dadfeddbf6"
      },
      "execution_count": null,
      "outputs": [
        {
          "output_type": "execute_result",
          "data": {
            "text/plain": [
              "True"
            ]
          },
          "metadata": {},
          "execution_count": 18
        }
      ]
    },
    {
      "cell_type": "markdown",
      "source": [
        "## **Variáveis**\n",
        "\n",
        "Variáveis estão alocadas em espaços na memória"
      ],
      "metadata": {
        "id": "hur-eHs3r9FD"
      }
    },
    {
      "cell_type": "code",
      "source": [
        "# Nome da variável é \"x\" que armazena o valor 10 em um espaço na memória\n",
        "x = 10\n",
        "print(x) # Utilizar a referência no nome atribuído"
      ],
      "metadata": {
        "colab": {
          "base_uri": "https://localhost:8080/"
        },
        "id": "j_Y-rRnvsLJ7",
        "outputId": "75ba1797-760d-4acb-b47c-8890d3c4288d"
      },
      "execution_count": null,
      "outputs": [
        {
          "output_type": "stream",
          "name": "stdout",
          "text": [
            "10\n"
          ]
        }
      ]
    }
  ]
}